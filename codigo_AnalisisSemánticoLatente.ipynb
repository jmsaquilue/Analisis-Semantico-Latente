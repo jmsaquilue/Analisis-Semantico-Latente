{
  "nbformat": 4,
  "nbformat_minor": 0,
  "metadata": {
    "colab": {
      "name": "TrabajoAS.ipynb",
      "provenance": [],
      "collapsed_sections": []
    },
    "kernelspec": {
      "display_name": "Python 3",
      "name": "python3"
    },
    "language_info": {
      "name": "python"
    }
  },
  "cells": [
    {
      "cell_type": "markdown",
      "metadata": {
        "id": "DooX8Yk5EAv2"
      },
      "source": [
        "<img src=\"https://www.uv.es/recursos/fatwirepub/ccurl/958/517/Cap_ETSE_UV_es.png\" align=\"right\" style=\"float\" width=\"500\">\n",
        "\n",
        "<font color=\"#000000\"><h1 align=\"left\">Análisis semántico latente</h1></font>\n",
        "\n",
        "<font color=\"#CA3532\"><h2 align=\"left\">Master en Ciencia de Datos</h2></font>\n",
        "\n",
        "<font color=\"#6E6E6E\"><h2 align=\"left\">Análisis de señales </h2></font>\n",
        "\n",
        "<font color=\"#6E6E6E\"><h3 align=\"left\">12-11-21 </h3></font> \n",
        "<br/>\n",
        "<h3 align=\"left\">Autores:</h3>\n",
        "<p>Carlos Martínez Sotorres</p>\n",
        "<p>José Manuel Sánchez Aquilué</p>\n",
        "<p>Noah Villaescusa Topper</p>\n"
      ]
    },
    {
      "cell_type": "code",
      "metadata": {
        "id": "BT9byZ0rDxAF"
      },
      "source": [
        "# import libraries\n",
        "import urllib.request\n",
        "\n",
        "from pandas import DataFrame\n",
        "import itertools\n",
        "\n",
        "import nltk\n",
        "from nltk.tokenize import RegexpTokenizer\n",
        "from nltk.stem.porter import PorterStemmer\n",
        "from nltk.corpus import stopwords\n",
        "\n",
        "from gensim import corpora\n",
        "from gensim.models import LsiModel\n",
        "from gensim.models.coherencemodel import CoherenceModel\n",
        "\n",
        "import matplotlib.pyplot as plt"
      ],
      "execution_count": 12,
      "outputs": []
    },
    {
      "cell_type": "markdown",
      "metadata": {
        "id": "rEKjA9JBKRe4"
      },
      "source": [
        "# Extracción de datos"
      ]
    },
    {
      "cell_type": "markdown",
      "metadata": {
        "id": "aZa6FBvW96kV"
      },
      "source": [
        "Es necesario contar con un conjunto de datos con un volumen importante de documentos para entrenar a nuestro modelo. Nosotros hemos decidido utilizar estos artículos que pone a nuestra disposición datacamp. Importaremos los datos desde la url, de manera que en cada ejecución trabajaremos con la última versión del fichero."
      ]
    },
    {
      "cell_type": "code",
      "metadata": {
        "id": "J37GQ10D5Apu"
      },
      "source": [
        "# load data\n",
        "url = \"https://s3.amazonaws.com/assets.datacamp.com/blog_assets/Latent+Semantic+Analysis+in+Python/articles+4.txt\"\n",
        "file = urllib.request.urlopen(url)"
      ],
      "execution_count": 13,
      "outputs": []
    },
    {
      "cell_type": "markdown",
      "metadata": {
        "id": "8PUK9D6_Pnur"
      },
      "source": [
        "Una vez importado, procedemos a realizar una lectura linea a linea (ya que los artículos se disponen por lineas de texto). Los documentos, representados como cadenas de texto, serán almacenados en una lista. Se podría utilizar alguna otra estructura de datos, pero para este ejemplo es buena idea emplear una lista.\n",
        "\n",
        "Por último, aclarar que la codificación original del fichero no es válida para trabajar directamente, hace falta hacer una decodificación a `utf-8`."
      ]
    },
    {
      "cell_type": "code",
      "metadata": {
        "id": "85yBAFLJ5OTJ"
      },
      "source": [
        "documents = []\n",
        "\n",
        "for line in file:\n",
        "  decoded_line = line.decode(\"utf-8\")\n",
        "  text = decoded_line.strip()\n",
        "  documents.append(text)"
      ],
      "execution_count": 14,
      "outputs": []
    },
    {
      "cell_type": "markdown",
      "metadata": {
        "id": "m_5OHcGGKtd6"
      },
      "source": [
        "# Exploración de datos"
      ]
    },
    {
      "cell_type": "markdown",
      "metadata": {
        "id": "-N2OCrm9EEeY"
      },
      "source": [
        "Una vez que tengamos los documentos almacenados en una lista, procedemos a examinarlos. El primer paso consistirá en comprobar con cuántos elementos contamos."
      ]
    },
    {
      "cell_type": "code",
      "metadata": {
        "colab": {
          "base_uri": "https://localhost:8080/"
        },
        "id": "AmYo59cVF2h7",
        "outputId": "55ca5a36-ad5b-42b5-8e49-f0bee6e18f82"
      },
      "source": [
        "print(\"Number of documents:\", len(documents))"
      ],
      "execution_count": 15,
      "outputs": [
        {
          "output_type": "stream",
          "name": "stdout",
          "text": [
            "Number of documents: 4551\n"
          ]
        }
      ]
    },
    {
      "cell_type": "markdown",
      "metadata": {
        "id": "jsxJaMyhEp9l"
      },
      "source": [
        "Por otro lado, nos interesa conocer la dimensión de cada texto."
      ]
    },
    {
      "cell_type": "code",
      "metadata": {
        "colab": {
          "base_uri": "https://localhost:8080/",
          "height": 300
        },
        "id": "10AimUrmM4UT",
        "outputId": "3d1eab64-916a-4557-e6c7-3304e95f5388"
      },
      "source": [
        "numchar_by_doc = DataFrame(map(len, documents))\n",
        "\n",
        "numchar_by_doc.describe()"
      ],
      "execution_count": 16,
      "outputs": [
        {
          "output_type": "execute_result",
          "data": {
            "text/html": [
              "<div>\n",
              "<style scoped>\n",
              "    .dataframe tbody tr th:only-of-type {\n",
              "        vertical-align: middle;\n",
              "    }\n",
              "\n",
              "    .dataframe tbody tr th {\n",
              "        vertical-align: top;\n",
              "    }\n",
              "\n",
              "    .dataframe thead th {\n",
              "        text-align: right;\n",
              "    }\n",
              "</style>\n",
              "<table border=\"1\" class=\"dataframe\">\n",
              "  <thead>\n",
              "    <tr style=\"text-align: right;\">\n",
              "      <th></th>\n",
              "      <th>0</th>\n",
              "    </tr>\n",
              "  </thead>\n",
              "  <tbody>\n",
              "    <tr>\n",
              "      <th>count</th>\n",
              "      <td>4551.000000</td>\n",
              "    </tr>\n",
              "    <tr>\n",
              "      <th>mean</th>\n",
              "      <td>5477.652604</td>\n",
              "    </tr>\n",
              "    <tr>\n",
              "      <th>std</th>\n",
              "      <td>6357.940083</td>\n",
              "    </tr>\n",
              "    <tr>\n",
              "      <th>min</th>\n",
              "      <td>410.000000</td>\n",
              "    </tr>\n",
              "    <tr>\n",
              "      <th>25%</th>\n",
              "      <td>2726.000000</td>\n",
              "    </tr>\n",
              "    <tr>\n",
              "      <th>50%</th>\n",
              "      <td>4321.000000</td>\n",
              "    </tr>\n",
              "    <tr>\n",
              "      <th>75%</th>\n",
              "      <td>5962.500000</td>\n",
              "    </tr>\n",
              "    <tr>\n",
              "      <th>max</th>\n",
              "      <td>96917.000000</td>\n",
              "    </tr>\n",
              "  </tbody>\n",
              "</table>\n",
              "</div>"
            ],
            "text/plain": [
              "                  0\n",
              "count   4551.000000\n",
              "mean    5477.652604\n",
              "std     6357.940083\n",
              "min      410.000000\n",
              "25%     2726.000000\n",
              "50%     4321.000000\n",
              "75%     5962.500000\n",
              "max    96917.000000"
            ]
          },
          "metadata": {},
          "execution_count": 16
        }
      ]
    },
    {
      "cell_type": "markdown",
      "metadata": {
        "id": "66sCfsRDEzEz"
      },
      "source": [
        "Se aprecia que por lo general son artículos de entre 2500 y 6000 caracteres. No obstante hay bastantes documentos cuya extensión supera con creces la media."
      ]
    },
    {
      "cell_type": "code",
      "metadata": {
        "colab": {
          "base_uri": "https://localhost:8080/"
        },
        "id": "HknoS4MTGL3c",
        "outputId": "550e1575-5667-43e3-ce01-86f65ba3c2d5"
      },
      "source": [
        "print(\"Número de artículos muy largos:\", (numchar_by_doc > 20000).sum()[0])\n",
        "print(\"Número de artículos largos:\", (numchar_by_doc > 6000).sum()[0])\n",
        "print(\"Número de artículos cortos:\", (numchar_by_doc < 2500).sum()[0])\n"
      ],
      "execution_count": 17,
      "outputs": [
        {
          "output_type": "stream",
          "name": "stdout",
          "text": [
            "Número de artículos muy largos: 114\n",
            "Número de artículos largos: 1119\n",
            "Número de artículos cortos: 963\n"
          ]
        }
      ]
    },
    {
      "cell_type": "markdown",
      "metadata": {
        "id": "M7FYSaTBIBjJ"
      },
      "source": [
        "A continuación mostramos un par de gráficos con la distribución del tamaño de los artículos."
      ]
    },
    {
      "cell_type": "code",
      "metadata": {
        "colab": {
          "base_uri": "https://localhost:8080/",
          "height": 500
        },
        "id": "VNLLkS9UNS0L",
        "outputId": "0a7ecfcc-3ec8-4eca-f6a4-ae14b562971d"
      },
      "source": [
        "numchar_by_doc.boxplot(figsize=(8,8))"
      ],
      "execution_count": 18,
      "outputs": [
        {
          "output_type": "execute_result",
          "data": {
            "text/plain": [
              "<matplotlib.axes._subplots.AxesSubplot at 0x7fcf76a3a5d0>"
            ]
          },
          "metadata": {},
          "execution_count": 18
        },
        {
          "output_type": "display_data",
          "data": {
            "image/png": "[encoded data removed]",
            "text/plain": [
              "<Figure size 576x576 with 1 Axes>"
            ]
          },
          "metadata": {
            "needs_background": "light"
          }
        }
      ]
    },
    {
      "cell_type": "code",
      "metadata": {
        "colab": {
          "base_uri": "https://localhost:8080/",
          "height": 534
        },
        "id": "4BvLcZb8Ferd",
        "outputId": "8a0bec3c-2655-43a9-9fd9-4ad7e6a06b2c"
      },
      "source": [
        "numchar_by_doc.hist(figsize=(8,8), bins = 20)"
      ],
      "execution_count": 19,
      "outputs": [
        {
          "output_type": "execute_result",
          "data": {
            "text/plain": [
              "array([[<matplotlib.axes._subplots.AxesSubplot object at 0x7fcf7690bd10>]],\n",
              "      dtype=object)"
            ]
          },
          "metadata": {},
          "execution_count": 19
        },
        {
          "output_type": "display_data",
          "data": {
            "image/png": "[encoded data removed]",
            "text/plain": [
              "<Figure size 576x576 with 1 Axes>"
            ]
          },
          "metadata": {
            "needs_background": "light"
          }
        }
      ]
    },
    {
      "cell_type": "markdown",
      "metadata": {
        "id": "tQAt-W_6IXiN"
      },
      "source": [
        "Más adelante después de eliminar las stopwords y hacer stemming veremos como en base a esos artículos hemos construido un diccionario de 49792 palabras. "
      ]
    },
    {
      "cell_type": "markdown",
      "metadata": {
        "id": "9JxOCGxG8GPI"
      },
      "source": [
        "# Preprocesado"
      ]
    },
    {
      "cell_type": "markdown",
      "metadata": {
        "id": "hegI_RLfZLxA"
      },
      "source": [
        "Antes de construir la bolsa de palabras vamos a \"limpiar\" los documentos. Podemos dividir el preprocesado en estas cuatro fases:\n",
        "*   Convertir a minúsculas\n",
        "*   Dividir por espacios en blanco (tokenizar)\n",
        "*   Eliminar \"stopwords\"\n",
        "*   Stemming \n",
        "\n"
      ]
    },
    {
      "cell_type": "markdown",
      "metadata": {
        "id": "3GM_-T6e2L2S"
      },
      "source": [
        "Aplicado una expresión regular se construye un \"tokenizer\", el cual aplicado al documento dividirá por los espacios en blanco el mismo y obtendrá los tokens."
      ]
    },
    {
      "cell_type": "code",
      "metadata": {
        "id": "RXPg8IQW8HNb"
      },
      "source": [
        "tokenizer = RegexpTokenizer(r'\\w+')"
      ],
      "execution_count": 20,
      "outputs": []
    },
    {
      "cell_type": "markdown",
      "metadata": {
        "id": "kMNqpsRI2hZ_"
      },
      "source": [
        "A continuación, mediante la librería nltk se obtienen las \"stopwords\" del lenguaje especificado, en este caso corresponde el inglés. Esta lista es muy extensa por lo que generarla manualmente sería costoso, además existiría una alta probabilidad de estar incompleta."
      ]
    },
    {
      "cell_type": "code",
      "metadata": {
        "colab": {
          "base_uri": "https://localhost:8080/"
        },
        "id": "mnsEj4sS-_8F",
        "outputId": "b2550836-8930-427e-cbbd-a4d08ee1239f"
      },
      "source": [
        "nltk.download('stopwords')\n",
        "en_stop = set(stopwords.words('english'))"
      ],
      "execution_count": 21,
      "outputs": [
        {
          "output_type": "stream",
          "name": "stdout",
          "text": [
            "[nltk_data] Downloading package stopwords to /root/nltk_data...\n",
            "[nltk_data]   Unzipping corpora/stopwords.zip.\n"
          ]
        }
      ]
    },
    {
      "cell_type": "markdown",
      "metadata": {
        "id": "NKCkOi8X3OZZ"
      },
      "source": [
        "El stemming se realiza mediante el algoritmo de Porter, el algoritmo más común para stemming. Este permite extraer los sufijos y prefijos de una palabra para obtener la raíz común."
      ]
    },
    {
      "cell_type": "code",
      "metadata": {
        "id": "SDL_qq3DAF9t"
      },
      "source": [
        "p_stemmer = PorterStemmer()"
      ],
      "execution_count": 22,
      "outputs": []
    },
    {
      "cell_type": "markdown",
      "metadata": {
        "id": "gh5UVrw04GXN"
      },
      "source": [
        "Por último solo queda aplicar los pasos mencionados sobre los textos. El primer paso es convertir a minúsculas el documento, tras ello se obtienen los tokens, un array de palabras completas sobre el cual se trabaja para eliminar las \"stopwords\", y por último se aplica el stemmer para realizar el stemming y conseguir una colección de documentos corregidos y normalizados."
      ]
    },
    {
      "cell_type": "code",
      "metadata": {
        "id": "QEWE9cvyAPZa"
      },
      "source": [
        "clean_docs = []\n",
        "for doc in documents:\n",
        "  lower_case = doc.lower()\n",
        "  tokens = tokenizer.tokenize(lower_case)\n",
        "\n",
        "  stopped_tokens = [i for i in tokens if not i in en_stop]\n",
        "  \n",
        "  stemmed_tokens = [p_stemmer.stem(i) for i in stopped_tokens]\n",
        "  \n",
        "  clean_docs.append(stemmed_tokens)"
      ],
      "execution_count": 23,
      "outputs": []
    },
    {
      "cell_type": "markdown",
      "metadata": {
        "id": "ZYvL3eYbBYQG"
      },
      "source": [
        "# Implementación del modelo"
      ]
    },
    {
      "cell_type": "markdown",
      "metadata": {
        "id": "TqlR8GC9HwES"
      },
      "source": [
        "El diccionario lo vamos a generar a través de la clase homónima de la biblioteca corpora."
      ]
    },
    {
      "cell_type": "code",
      "metadata": {
        "id": "0ha0fgeYBXsk"
      },
      "source": [
        "dictionary = corpora.Dictionary(clean_docs)"
      ],
      "execution_count": 24,
      "outputs": []
    },
    {
      "cell_type": "code",
      "metadata": {
        "colab": {
          "base_uri": "https://localhost:8080/"
        },
        "id": "I0_y49rZIRen",
        "outputId": "44e69e1e-c24b-4f91-f306-f33b6353f1e9"
      },
      "source": [
        "len(dictionary)"
      ],
      "execution_count": 25,
      "outputs": [
        {
          "output_type": "execute_result",
          "data": {
            "text/plain": [
              "49792"
            ]
          },
          "metadata": {},
          "execution_count": 25
        }
      ]
    },
    {
      "cell_type": "markdown",
      "metadata": {
        "id": "ImgYtCi01NwN"
      },
      "source": [
        "Esa clase tiene un atributo que dado un documento devuelve su representación en bolsa de palabras. De manera que al aplicar esa función en sobre todos los articulos obtendremos la matriz término-documento."
      ]
    },
    {
      "cell_type": "code",
      "metadata": {
        "id": "ZKV3jY8mGYsq"
      },
      "source": [
        "doc_term_matrix = [dictionary.doc2bow(doc) for doc in clean_docs]"
      ],
      "execution_count": 26,
      "outputs": []
    },
    {
      "cell_type": "markdown",
      "metadata": {
        "id": "qS34mCxqIBJc"
      },
      "source": [
        "A partir de la matriz podemos elaborar nuestro modelo indicando el número de temas. "
      ]
    },
    {
      "cell_type": "code",
      "metadata": {
        "id": "QN9rgKaaCYQS"
      },
      "source": [
        "N = 7 # number of topics"
      ],
      "execution_count": 27,
      "outputs": []
    },
    {
      "cell_type": "code",
      "metadata": {
        "id": "EvCmPnvyIIMn"
      },
      "source": [
        "# construct lsamodel\n",
        "lsamodel = LsiModel(doc_term_matrix, num_topics = N, id2word = dictionary)"
      ],
      "execution_count": 28,
      "outputs": []
    },
    {
      "cell_type": "markdown",
      "metadata": {
        "id": "Gb2oqPdZnJs7"
      },
      "source": [
        "Una vez construido el modelo, vamos a ver las palabras más relevantes de cada tema e intentaremos averiguar cómo ha clasificado los artículos."
      ]
    },
    {
      "cell_type": "code",
      "metadata": {
        "colab": {
          "base_uri": "https://localhost:8080/"
        },
        "id": "QFQyyFaSDCaI",
        "outputId": "ede2a3cf-f84c-4218-b117-e1ba1a6a7cae"
      },
      "source": [
        "N_WORDS = 12\n",
        "print(lsamodel.print_topics(num_topics = N, num_words=  N_WORDS))"
      ],
      "execution_count": 29,
      "outputs": [
        {
          "output_type": "stream",
          "name": "stdout",
          "text": [
            "[(0, '0.361*\"trump\" + 0.272*\"say\" + 0.233*\"said\" + 0.166*\"would\" + 0.160*\"clinton\" + 0.140*\"peopl\" + 0.136*\"one\" + 0.126*\"campaign\" + 0.123*\"year\" + 0.110*\"time\" + 0.110*\"like\" + 0.108*\"go\"'), (1, '0.389*\"citi\" + 0.370*\"v\" + 0.356*\"h\" + 0.355*\"2016\" + 0.354*\"2017\" + 0.164*\"unit\" + 0.159*\"west\" + 0.157*\"manchest\" + 0.116*\"apr\" + 0.112*\"dec\" + -0.108*\"trump\" + 0.085*\"leicest\"'), (2, '0.612*\"trump\" + 0.264*\"clinton\" + -0.261*\"eu\" + -0.148*\"say\" + -0.137*\"would\" + 0.135*\"donald\" + -0.134*\"leav\" + -0.134*\"uk\" + 0.119*\"republican\" + -0.110*\"cameron\" + -0.105*\"brexit\" + -0.104*\"britain\"'), (3, '-0.400*\"min\" + 0.261*\"eu\" + -0.183*\"goal\" + -0.152*\"ball\" + -0.132*\"play\" + 0.128*\"said\" + 0.128*\"say\" + -0.126*\"leagu\" + 0.122*\"leav\" + -0.122*\"game\" + -0.117*\"1\" + 0.116*\"vote\"'), (4, '0.404*\"bank\" + -0.305*\"eu\" + -0.290*\"min\" + 0.189*\"year\" + -0.164*\"leav\" + -0.153*\"cameron\" + 0.143*\"market\" + 0.140*\"rate\" + -0.139*\"vote\" + -0.133*\"say\" + -0.124*\"campaign\" + 0.108*\"financi\"'), (5, '0.310*\"bank\" + -0.307*\"say\" + -0.221*\"peopl\" + 0.203*\"trump\" + 0.166*\"1\" + 0.164*\"min\" + 0.163*\"0\" + 0.152*\"market\" + 0.152*\"eu\" + -0.138*\"like\" + 0.131*\"goal\" + -0.126*\"film\"'), (6, '-0.570*\"say\" + -0.237*\"min\" + 0.170*\"vote\" + -0.158*\"govern\" + 0.154*\"poll\" + -0.122*\"tax\" + -0.115*\"bank\" + -0.114*\"statement\" + -0.112*\"budget\" + 0.108*\"one\" + -0.105*\"trump\" + 0.103*\"eu\"')]\n"
          ]
        }
      ]
    },
    {
      "cell_type": "markdown",
      "metadata": {
        "id": "z_pwr8fjEhX7"
      },
      "source": [
        "\n",
        "*   Tema 1: Elecciones presidenciales de EEUU de 2016 (trump, say, said, would, clinton, people, one, campaign, year, time...)\n",
        "*   Tema 2: Premier League (citi, v, h, 2016, 2017, unit, manchest, apr ,dec...)\n",
        "*   Tema 3: Brexit y elecciones en EEUU (trump, clinton, eu, say, would, donald, leav, uk,republican, cameron...)\n",
        "*   Tema 4: Futbol o Deportes en general (min, eu, goal, ball, play, said, say, leagu, leav, game...)\n",
        "*   Tema 5: Economía y Brexit (bank, eu, min, year, leav, cameron, market, rate, vote, say...)\n",
        "*   Tema 6: Economía (bank, say, peopl, trump, 1, min, eu, market, like...)\n",
        "*   Tema 7: Elecciones presidenciales de EEUU y presupuestos (say, min,vote, govern, poll, tax, statement, bank, budget, one...)\n",
        "\n"
      ]
    },
    {
      "cell_type": "markdown",
      "metadata": {
        "id": "hy5FwsevoKL6"
      },
      "source": [
        "Es evidente que muchos temas resultan prácticamente identicos, vamos a ver si es preferible reducir el número de temas y fusionar en una sola categoría aquellos que se repiten."
      ]
    },
    {
      "cell_type": "markdown",
      "metadata": {
        "id": "1SjF5Z-YCxQX"
      },
      "source": [
        "# Resultados"
      ]
    },
    {
      "cell_type": "markdown",
      "metadata": {
        "id": "PW02VLkGC1OA"
      },
      "source": [
        "En el apartado anterior hemos dado por hecho que el número de temas es siete. Sin embargo, no deja de ser un hiperparámetro. En esta sección vamos a averiguar cual es el número de topics que devuelve la mayor puntuación, tomando como criterio la coherencia."
      ]
    },
    {
      "cell_type": "code",
      "metadata": {
        "id": "EJzGr2JCC7zN"
      },
      "source": [
        "coherence_values = []\n",
        "model_list = []\n",
        "\n",
        "for n in range(2, 12):\n",
        "  model = LsiModel(doc_term_matrix, num_topics = n, id2word = dictionary)  # train model\n",
        "  model_list.append(model)\n",
        "  coherencemodel = CoherenceModel(model=model, texts= clean_docs, dictionary=dictionary, coherence='c_v')\n",
        "  coherence_values.append(coherencemodel.get_coherence())\n"
      ],
      "execution_count": null,
      "outputs": []
    },
    {
      "cell_type": "code",
      "metadata": {
        "colab": {
          "base_uri": "https://localhost:8080/",
          "height": 279
        },
        "id": "ga0hHjWHD4R2",
        "outputId": "eff4db9a-2a93-426f-ab12-5988556acd06"
      },
      "source": [
        "x = range(2, 12)\n",
        "plt.plot(x, coherence_values)\n",
        "plt.xlabel(\"Number of Topics\")\n",
        "plt.ylabel(\"Coherence score\")\n",
        "plt.legend((\"coherence_values\"), loc='best')\n",
        "plt.show()"
      ],
      "execution_count": null,
      "outputs": [
        {
          "output_type": "display_data",
          "data": {
            "image/png": "[encoded data removed]",
            "text/plain": [
              "<Figure size 432x288 with 1 Axes>"
            ]
          },
          "metadata": {
            "needs_background": "light"
          }
        }
      ]
    },
    {
      "cell_type": "markdown",
      "metadata": {
        "id": "GEIa54Y7lTMX"
      },
      "source": [
        "Vemos que el número optimo de temas son tres. Se ha de tener en cuenta que el resultado puede variar de una ejecución a otra porque no siempre se construye el modelo de la misma manera. No obstante la máxima coherencia la suele ostentar el modelo de tres tema. Por esa razón vamos a construir un modelo con tres temas y intentaremos averiguar cual es cada uno."
      ]
    },
    {
      "cell_type": "code",
      "metadata": {
        "id": "RIX_VhSwobtE"
      },
      "source": [
        "N = 3 # number of topics\n",
        "lsamodel_opt = LsiModel(doc_term_matrix, num_topics = N, id2word = dictionary)"
      ],
      "execution_count": null,
      "outputs": []
    },
    {
      "cell_type": "code",
      "metadata": {
        "colab": {
          "base_uri": "https://localhost:8080/"
        },
        "id": "YBPEiRDHoj4m",
        "outputId": "806606d5-2864-4775-df39-0860f2f3537e"
      },
      "source": [
        "N_WORDS = 15\n",
        "print(lsamodel_opt.print_topics(num_topics = N, num_words=  N_WORDS))"
      ],
      "execution_count": null,
      "outputs": [
        {
          "output_type": "stream",
          "name": "stdout",
          "text": [
            "[(0, '0.361*\"trump\" + 0.272*\"say\" + 0.233*\"said\" + 0.166*\"would\" + 0.160*\"clinton\" + 0.140*\"peopl\" + 0.136*\"one\" + 0.126*\"campaign\" + 0.123*\"year\" + 0.110*\"time\" + 0.110*\"like\" + 0.108*\"go\" + 0.107*\"eu\" + 0.105*\"vote\" + 0.099*\"new\"'), (1, '0.389*\"citi\" + 0.370*\"v\" + 0.356*\"h\" + 0.355*\"2016\" + 0.354*\"2017\" + 0.164*\"unit\" + 0.159*\"west\" + 0.157*\"manchest\" + 0.116*\"apr\" + 0.112*\"dec\" + -0.108*\"trump\" + 0.085*\"leicest\" + 0.084*\"liverpool\" + 0.084*\"chelsea\" + 0.083*\"palac\"'), (2, '-0.612*\"trump\" + -0.264*\"clinton\" + 0.261*\"eu\" + 0.148*\"say\" + 0.137*\"would\" + -0.135*\"donald\" + 0.134*\"leav\" + 0.134*\"uk\" + -0.119*\"republican\" + 0.110*\"cameron\" + 0.105*\"brexit\" + 0.104*\"britain\" + 0.100*\"govern\" + -0.099*\"hillari\" + -0.088*\"state\"')]\n"
          ]
        }
      ]
    },
    {
      "cell_type": "markdown",
      "metadata": {
        "id": "wXYFDaX3tG8y"
      },
      "source": [
        "*   Tema 1: Elecciones presidenciales de EEUU de 2016 (trump, say, said, would, clinton, peopl, one, campaign, year, time, like, go, eu, vote, new...)\n",
        "*   Tema 2: Premier League (citi, v, h, 2016, 2017, unit, west, manchest, apr, dec, trump, leicest, liverpool, chelsea, palac...)\n",
        "*   Tema 3: Brexit (trump,clinton, eu, say, would, donald, leav, uk, republican, cameron, brexit, britain, govern, hillari, state...)\n",
        "\n"
      ]
    }
  ]
}